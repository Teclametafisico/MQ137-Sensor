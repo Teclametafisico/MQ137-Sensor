{
 "cells": [
  {
   "cell_type": "code",
   "execution_count": 3,
   "metadata": {},
   "outputs": [],
   "source": [
    "import matplotlib.pyplot as plt\n",
    "import numpy as np\n"
   ]
  },
  {
   "cell_type": "code",
   "execution_count": 15,
   "metadata": {},
   "outputs": [
    {
     "name": "stderr",
     "output_type": "stream",
     "text": [
      "C:\\Users\\User\\AppData\\Local\\Temp\\ipykernel_4224\\3359908637.py:2: RuntimeWarning: divide by zero encountered in log10\n",
      "  y = 10**(-0.2365-0.254*np.log10(x))\n"
     ]
    },
    {
     "data": {
      "image/png": "[encoded data removed]",
      "text/plain": [
       "<Figure size 432x288 with 1 Axes>"
      ]
     },
     "metadata": {
      "needs_background": "light"
     },
     "output_type": "display_data"
    }
   ],
   "source": [
    "x = np.arange(1000)\n",
    "y = 10**(-0.2365-0.254*np.log10(x))\n",
    "plt.plot(x, y)\n",
    "plt.xscale(\"log\")\n",
    "plt.yscale(\"log\")\n",
    "plt.grid(True,which=\"both\")\n",
    "plt.show()"
   ]
  },
  {
   "attachments": {},
   "cell_type": "markdown",
   "metadata": {},
   "source": [
    "# MQ137-Sensor\n",
    "This is a little task to calibrate an amoniac sensor MQ137, using esp8266 module. \n",
    "\n",
    "First considerate sensor resistor ($R_s$) is in serie with constant resistor ($R_L$).\n",
    "With a voltage divider We can relate the voltage on constant resitor $V_L$ to $R_s$.\n",
    "$$ R_s = R_L ({V_c \\over V_L}-1) $$\n",
    "\n",
    "Looking the datasheet grafic of MQ137, the points of the graphs can be noted.\n",
    "$$ (1, 0.6)  <====>   (X_1 , Y_1) $$\n",
    "$$ (4, 0.4)  <====>   (X_2 , Y_2) $$\n",
    "$$ (40, 0.2) <====>   (X_3 , Y_3) $$\n",
    "\n",
    "With this data we can solve the following equation.\n",
    "$$ log({R_s \\over R_o}) = m*log({PPM})+b$$\n",
    "\n",
    "to find the slope of the equation.\n",
    "\n",
    "$$m=[ {  log(y_2) - log(y_1) \\over log(x_2)- log(x_1)}] $$\n",
    "$$m=[ {  log({y_2 \\over y_1}) \\over log({x_2 \\over x_1})}] $$\n",
    "$$m=[ {  log({0.2 \\over 0.6}) \\over log({40 \\over 1})}] $$\n",
    "$$m=[ {  -0.4771 \\over 1.6}] $$\n",
    "$$m= {  -0.2981} $$\n",
    "\n",
    "\n",
    "\n",
    "\n",
    "\n",
    "\n"
   ]
  }
 ],
 "metadata": {
  "kernelspec": {
   "display_name": "py310",
   "language": "python",
   "name": "python3"
  },
  "language_info": {
   "codemirror_mode": {
    "name": "ipython",
    "version": 3
   },
   "file_extension": ".py",
   "mimetype": "text/x-python",
   "name": "python",
   "nbconvert_exporter": "python",
   "pygments_lexer": "ipython3",
   "version": "3.10.0"
  },
  "orig_nbformat": 4
 },
 "nbformat": 4,
 "nbformat_minor": 2
}
